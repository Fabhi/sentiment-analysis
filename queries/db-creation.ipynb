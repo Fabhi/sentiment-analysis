{
    "metadata": {
        "kernelspec": {
            "name": "SQL",
            "display_name": "SQL",
            "language": "sql"
        },
        "language_info": {
            "name": "sql",
            "version": ""
        }
    },
    "nbformat_minor": 2,
    "nbformat": 4,
    "cells": [
        {
            "cell_type": "code",
            "source": [
                "CREATE TABLE UTTERANCE (\r\n",
                "    ID INT IDENTITY(1,1),\r\n",
                "    SENTENCE TEXT,\r\n",
                "    EMOTION TEXT,\r\n",
                "    STARTING INT,\r\n",
                "    ENDING INT,\r\n",
                "\r\n",
                "    POSITIVE BIT,\r\n",
                "    NEGATIVE BIT,\r\n",
                "    ANGER BIT,\r\n",
                "    ANTICIPATION BIT,\r\n",
                "    GUST BIT,\r\n",
                "\r\n",
                "    I_FEEL BIT,\r\n",
                "    SOURCE TEXT,\r\n",
                ");"
            ],
            "metadata": {
                "azdata_cell_guid": "2badec7a-6e8c-419c-994d-766eba2b17f4"
            },
            "outputs": [
                {
                    "output_type": "display_data",
                    "data": {
                        "text/html": "Commands completed successfully."
                    },
                    "metadata": {}
                },
                {
                    "output_type": "display_data",
                    "data": {
                        "text/html": "Total execution time: 00:00:00.139"
                    },
                    "metadata": {}
                }
            ],
            "execution_count": 4
        }
    ]
}