{
    "metadata": {
        "kernelspec": {
            "name": "SQL",
            "display_name": "SQL",
            "language": "sql"
        },
        "language_info": {
            "name": "sql",
            "version": ""
        }
    },
    "nbformat_minor": 2,
    "nbformat": 4,
    "cells": [
        {
            "cell_type": "code",
            "source": [
                "-- Create a new table called '[TWITTER]' in schema '[SOURCES]'\r\n",
                "-- Drop the table if it already exists\r\n",
                "IF OBJECT_ID('[sources].[TWITTER]', 'U') IS NOT NULL\r\n",
                "DROP TABLE [sources].[TWITTER]\r\n",
                "GO\r\n",
                "-- Create the table in the specified schema\r\n",
                "CREATE TABLE [sources].[TWITTER]\r\n",
                "(\r\n",
                "    [ID] INT NOT NULL PRIMARY KEY, -- Primary Key column\r\n",
                "    [NAME] NVARCHAR(50) NOT NULL,\r\n",
                "    [LOCATION] NVARCHAR(50) NOT NULL\r\n",
                "    -- Specify more columns here\r\n",
                ");\r\n",
                "GO"
            ],
            "metadata": {
                "azdata_cell_guid": "c42b62c8-adff-4efe-a447-bb7fab3899cd"
            },
            "outputs": [
                {
                    "output_type": "display_data",
                    "data": {
                        "text/html": "Commands completed successfully."
                    },
                    "metadata": {}
                },
                {
                    "output_type": "display_data",
                    "data": {
                        "text/html": "Commands completed successfully."
                    },
                    "metadata": {}
                },
                {
                    "output_type": "display_data",
                    "data": {
                        "text/html": "Total execution time: 00:00:00.113"
                    },
                    "metadata": {}
                }
            ],
            "execution_count": 2
        }
    ]
}